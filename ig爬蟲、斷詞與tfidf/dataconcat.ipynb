{
 "cells": [
  {
   "cell_type": "code",
   "execution_count": 2,
   "id": "128bf810",
   "metadata": {},
   "outputs": [],
   "source": [
    "import pandas as pd\n",
    "#讀入excel\n",
    "p = pd.read_excel('ig貼文內容first.xlsx')\n",
    "for i in range(0,10):\n",
    "    x = pd.read_excel('ig貼文內容' + str(i) + '.xlsx')\n",
    "    #將檔案合併\n",
    "    p = pd.concat([p,x])\n",
    "#輸出excel\n",
    "p.to_excel('ig貼文內容全.xlsx', encoding='utf_8', index=False)"
   ]
  },
  {
   "cell_type": "code",
   "execution_count": null,
   "id": "b301def2",
   "metadata": {},
   "outputs": [],
   "source": []
  }
 ],
 "metadata": {
  "kernelspec": {
   "display_name": "Python 3",
   "language": "python",
   "name": "python3"
  },
  "language_info": {
   "codemirror_mode": {
    "name": "ipython",
    "version": 3
   },
   "file_extension": ".py",
   "mimetype": "text/x-python",
   "name": "python",
   "nbconvert_exporter": "python",
   "pygments_lexer": "ipython3",
   "version": "3.8.8"
  }
 },
 "nbformat": 4,
 "nbformat_minor": 5
}
